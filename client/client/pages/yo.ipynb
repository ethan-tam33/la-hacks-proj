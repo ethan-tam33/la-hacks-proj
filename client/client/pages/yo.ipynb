{
 "cells": [
  {
   "cell_type": "code",
   "execution_count": 9,
   "metadata": {},
   "outputs": [],
   "source": [
    "import os\n",
    "def get_first_file_path(directory):\n",
    "        # List all files in the directory\n",
    "        files = os.listdir(directory)\n",
    "        if files:\n",
    "            # Join directory path with the first file name to get the full path\n",
    "            first_file_path = os.path.join(directory, files[0])\n",
    "        return first_file_path"
   ]
  },
  {
   "cell_type": "code",
   "execution_count": 10,
   "metadata": {},
   "outputs": [
    {
     "data": {
      "text/plain": [
       "'../../uploaded_files/Screenshot 2024-03-01 at 7.02.54\\u202fPM.png'"
      ]
     },
     "execution_count": 10,
     "metadata": {},
     "output_type": "execute_result"
    }
   ],
   "source": [
    "first_img_path = get_first_file_path(\"../../uploaded_files/\")\n",
    "first_img_path"
   ]
  },
  {
   "cell_type": "code",
   "execution_count": null,
   "metadata": {},
   "outputs": [],
   "source": []
  }
 ],
 "metadata": {
  "kernelspec": {
   "display_name": "Python 3.9.12 ('base')",
   "language": "python",
   "name": "python3"
  },
  "language_info": {
   "codemirror_mode": {
    "name": "ipython",
    "version": 3
   },
   "file_extension": ".py",
   "mimetype": "text/x-python",
   "name": "python",
   "nbconvert_exporter": "python",
   "pygments_lexer": "ipython3",
   "version": "3.9.12"
  },
  "orig_nbformat": 4,
  "vscode": {
   "interpreter": {
    "hash": "9938ade6a6e294b1df886c0a26fabc793af67c85b25e06e649a8670a614a4b3d"
   }
  }
 },
 "nbformat": 4,
 "nbformat_minor": 2
}
